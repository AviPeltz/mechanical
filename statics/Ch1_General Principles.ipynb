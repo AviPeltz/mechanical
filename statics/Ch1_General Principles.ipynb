{
 "cells": [
  {
   "cell_type": "markdown",
   "id": "8391db69",
   "metadata": {},
   "source": [
    "# Ch 1: General Principles\n",
    "\n",
    "### Chapter Objectives\n",
    "- aaa\n",
    "- aaa\n",
    "- aaa"
   ]
  },
  {
   "cell_type": "markdown",
   "id": "08dd9248",
   "metadata": {},
   "source": [
    "## 1.1 Mechanics"
   ]
  },
  {
   "cell_type": "markdown",
   "id": "f7eceaf8",
   "metadata": {},
   "source": [
    "## 1.2 Fundamental Concepts\n",
    "\n",
    "**Basic Quantities:** Four basic quantities used throughout mechanics:\n",
    "- **Length**:\n",
    "- **Time**:\n",
    "- **Mass**:\n",
    "- **Force**:\n",
    "\n",
    "\n",
    "\n",
    "**Ideations:**\n",
    "- **Particle:**\n",
    "- **Rigid Body:**\n",
    "- **Concentrated Force:**\n",
    "\n",
    "\n",
    "**Newton's Three Laws of Motion:** Engineering mechanics is built on to of Newton's three laws of motion, that have been validated throuh experimental observation. These laws apply to motion a particle as measured from a *nonaccelerating* reference frame.\n",
    "\n",
    "**First Law**: A particle \n",
    "\n"
   ]
  },
  {
   "cell_type": "code",
   "execution_count": null,
   "id": "a18b7005",
   "metadata": {},
   "outputs": [],
   "source": []
  },
  {
   "cell_type": "code",
   "execution_count": null,
   "id": "47b6c042",
   "metadata": {},
   "outputs": [],
   "source": []
  },
  {
   "cell_type": "markdown",
   "id": "cd57a62c",
   "metadata": {},
   "source": [
    "**Second Law**:"
   ]
  },
  {
   "cell_type": "code",
   "execution_count": null,
   "id": "24716cbe",
   "metadata": {},
   "outputs": [],
   "source": [
    "# Force\n",
    "\n",
    "# Mass\n",
    "\n",
    "# Acceleration"
   ]
  }
 ],
 "metadata": {
  "kernelspec": {
   "display_name": "Python 3 (ipykernel)",
   "language": "python",
   "name": "python3"
  },
  "language_info": {
   "codemirror_mode": {
    "name": "ipython",
    "version": 3
   },
   "file_extension": ".py",
   "mimetype": "text/x-python",
   "name": "python",
   "nbconvert_exporter": "python",
   "pygments_lexer": "ipython3",
   "version": "3.11.5"
  }
 },
 "nbformat": 4,
 "nbformat_minor": 5
}
