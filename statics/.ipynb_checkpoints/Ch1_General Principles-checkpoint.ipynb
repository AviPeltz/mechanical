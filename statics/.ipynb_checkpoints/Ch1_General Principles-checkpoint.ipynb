{
 "cells": [
  {
   "cell_type": "markdown",
   "id": "a3e5c9dd",
   "metadata": {},
   "source": [
    "# Ch 1: General Principles\n",
    "\n",
    "### Chapter Objectives\n",
    "- aaa\n",
    "- aaa\n",
    "- aaa"
   ]
  },
  {
   "cell_type": "markdown",
   "id": "2cda10fe",
   "metadata": {},
   "source": [
    "## 1.1 Mechanics"
   ]
  },
  {
   "cell_type": "markdown",
   "id": "ec574247",
   "metadata": {},
   "source": [
    "## 1.2 Fundamental Concepts\n",
    "\n",
    "#### Basic Quantities:\n",
    "four basic quantities used throughout mechanics\n",
    "- **Length**:\n",
    "- **Time**:\n",
    "- **Mass**:\n",
    "- **Force**:\n",
    "\n",
    "\n",
    "\n",
    "**I\n"
   ]
  },
  {
   "cell_type": "code",
   "execution_count": null,
   "id": "a4359182",
   "metadata": {},
   "outputs": [],
   "source": []
  }
 ],
 "metadata": {
  "kernelspec": {
   "display_name": "Python 3 (ipykernel)",
   "language": "python",
   "name": "python3"
  },
  "language_info": {
   "codemirror_mode": {
    "name": "ipython",
    "version": 3
   },
   "file_extension": ".py",
   "mimetype": "text/x-python",
   "name": "python",
   "nbconvert_exporter": "python",
   "pygments_lexer": "ipython3",
   "version": "3.11.5"
  }
 },
 "nbformat": 4,
 "nbformat_minor": 5
}
